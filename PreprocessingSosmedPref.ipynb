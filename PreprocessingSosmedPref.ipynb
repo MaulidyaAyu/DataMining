{
  "nbformat": 4,
  "nbformat_minor": 0,
  "metadata": {
    "colab": {
      "provenance": [],
      "include_colab_link": true
    },
    "kernelspec": {
      "name": "python3",
      "display_name": "Python 3"
    }
  },
  "cells": [
    {
      "cell_type": "markdown",
      "metadata": {
        "id": "view-in-github",
        "colab_type": "text"
      },
      "source": [
        "<a href=\"https://colab.research.google.com/github/MaulidyaAyu/DataMining/blob/main/PreprocessingSosmedPref.ipynb\" target=\"_parent\"><img src=\"https://colab.research.google.com/assets/colab-badge.svg\" alt=\"Open In Colab\"/></a>"
      ]
    },
    {
      "cell_type": "code",
      "metadata": {
        "id": "UopzVjNEe4uz"
      },
      "source": [
        "import numpy as np\n",
        "import matplotlib.pyplot as plt\n",
        "import pandas as pd"
      ],
      "execution_count": null,
      "outputs": []
    },
    {
      "cell_type": "code",
      "metadata": {
        "id": "k27glqe2fboK"
      },
      "source": [
        "dtype = {'Birth_Year': str}\n",
        "dataset = pd.read_csv('sosmedpref.csv', dtype=dtype)\n",
        "x = dataset.iloc[:, :-1].values\n",
        "y = dataset['Gender'].values"
      ],
      "execution_count": null,
      "outputs": []
    },
    {
      "cell_type": "code",
      "source": [
        "print(y)"
      ],
      "metadata": {
        "colab": {
          "base_uri": "https://localhost:8080/"
        },
        "id": "nq6kQ-zmrxjV",
        "outputId": "411ce7be-e22d-4486-db58-4055edde14ff"
      },
      "execution_count": null,
      "outputs": [
        {
          "output_type": "stream",
          "name": "stdout",
          "text": [
            "['Male' 'Male' 'Female' 'Female' 'Male' 'Male' 'Male' 'Male' 'Female'\n",
            " 'Male' 'Female']\n"
          ]
        }
      ]
    },
    {
      "cell_type": "code",
      "source": [
        "print(x)"
      ],
      "metadata": {
        "colab": {
          "base_uri": "https://localhost:8080/"
        },
        "id": "3CsIIwaFSLl-",
        "outputId": "97edf87b-cde7-41f6-bbf0-3cb8ee20e5f9"
      },
      "execution_count": null,
      "outputs": [
        {
          "output_type": "stream",
          "name": "stdout",
          "text": [
            "[['1972' 8 1 'Firefox' 'Google' 'Yahoo' 'Y' 'N' 'N' 'Y' 'N']\n",
            " ['1981' 14 2 'Chrome' 'Google' 'Hotmail' 'Y' 'N' 'N' 'Y' nan]\n",
            " ['1977' 6 2 'Firefox' 'Yahoo' 'Yahoo' 'Y' 'Y' nan 'Y' 'N']\n",
            " ['1961' 8 6 'Firefox' 'Google' 'Hotmail' 'N' 'Y' 'N' nan 'Y']\n",
            " ['1954' 2 3 'Internet Explorer' 'Bing' 'Hotmail' 'Y' 'Y' 'N' 'Y' 'N']\n",
            " ['1982' 15 4 'Internet Explorer' 'Google' 'Yahoo' 'Y' 'N' 'Y' 'N' 'N']\n",
            " ['1981' 11 2 'Firefox' 'Google' 'Yahoo' nan 'Y' nan 'Y' 'Y']\n",
            " ['1977' 3 3 'Internet Explorer' 'Yahoo' 'Yahoo' 'Y' nan nan 'Y' nan]\n",
            " ['1969' 6 2 'Firefox' 'Google' 'Gmail' 'N' 'Y' 'N' 'N' 'N']\n",
            " ['1987' 12 1 'Safari' 'Yahoo' 'Yahoo' 'Y' nan 'Y' 'Y' 'N']\n",
            " ['1959' 12 5 'Chrome' 'Google' 'Gmail' 'Y' 'N' 'N' nan 'N']]\n"
          ]
        }
      ]
    },
    {
      "cell_type": "code",
      "metadata": {
        "id": "z0TO-etsfvvY"
      },
      "source": [
        "from sklearn.model_selection import train_test_split\n",
        "x_train, x_test, y_train, y_test = train_test_split(x,y,test_size=0.2,random_state=0)"
      ],
      "execution_count": null,
      "outputs": []
    },
    {
      "cell_type": "code",
      "metadata": {
        "colab": {
          "base_uri": "https://localhost:8080/"
        },
        "id": "pH4E2eEafzIA",
        "outputId": "cff1aabd-88c6-4d53-9f03-d0e6d40874c6"
      },
      "source": [
        "print(x_train)"
      ],
      "execution_count": null,
      "outputs": [
        {
          "output_type": "stream",
          "name": "stdout",
          "text": [
            "[['1959' 12 5 'Chrome' 'Google' 'Gmail' 'Y' 'N' 'N' nan 'N']\n",
            " ['1981' 11 2 'Firefox' 'Google' 'Yahoo' nan 'Y' nan 'Y' 'Y']\n",
            " ['1981' 14 2 'Chrome' 'Google' 'Hotmail' 'Y' 'N' 'N' 'Y' nan]\n",
            " ['1977' 3 3 'Internet Explorer' 'Yahoo' 'Yahoo' 'Y' nan nan 'Y' nan]\n",
            " ['1969' 6 2 'Firefox' 'Google' 'Gmail' 'N' 'Y' 'N' 'N' 'N']\n",
            " ['1961' 8 6 'Firefox' 'Google' 'Hotmail' 'N' 'Y' 'N' nan 'Y']\n",
            " ['1972' 8 1 'Firefox' 'Google' 'Yahoo' 'Y' 'N' 'N' 'Y' 'N']\n",
            " ['1982' 15 4 'Internet Explorer' 'Google' 'Yahoo' 'Y' 'N' 'Y' 'N' 'N']]\n"
          ]
        }
      ]
    },
    {
      "cell_type": "code",
      "metadata": {
        "colab": {
          "base_uri": "https://localhost:8080/"
        },
        "id": "t16BHqaWf3nB",
        "outputId": "ff7ec6c2-bb39-4781-dc56-10b52f6396c1"
      },
      "source": [
        "print(x_test)"
      ],
      "execution_count": null,
      "outputs": [
        {
          "output_type": "stream",
          "name": "stdout",
          "text": [
            "[['1954' 2 3 'Internet Explorer' 'Bing' 'Hotmail' 'Y' 'Y' 'N' 'Y' 'N']\n",
            " ['1987' 12 1 'Safari' 'Yahoo' 'Yahoo' 'Y' nan 'Y' 'Y' 'N']\n",
            " ['1977' 6 2 'Firefox' 'Yahoo' 'Yahoo' 'Y' 'Y' nan 'Y' 'N']]\n"
          ]
        }
      ]
    },
    {
      "cell_type": "code",
      "metadata": {
        "id": "QOjawtLXf8pJ"
      },
      "source": [
        "from sklearn.impute import SimpleImputer\n",
        "imputer = SimpleImputer(missing_values=np.nan, strategy=\"most_frequent\")\n",
        "imputer.fit(x[:, 1:12])\n",
        "x[:, 1:12] = imputer.transform(x[:, 1:12])"
      ],
      "execution_count": null,
      "outputs": []
    },
    {
      "cell_type": "code",
      "metadata": {
        "colab": {
          "base_uri": "https://localhost:8080/"
        },
        "id": "T064YNl6gAQA",
        "outputId": "3f9c561f-c903-4ca4-f378-31d32c1fed81"
      },
      "source": [
        "print(x)"
      ],
      "execution_count": null,
      "outputs": [
        {
          "output_type": "stream",
          "name": "stdout",
          "text": [
            "[['1972' 8 1 'Firefox' 'Google' 'Yahoo' 'Y' 'N' 'N' 'Y' 'N']\n",
            " ['1981' 14 2 'Chrome' 'Google' 'Hotmail' 'Y' 'N' 'N' 'Y' 'N']\n",
            " ['1977' 6 2 'Firefox' 'Yahoo' 'Yahoo' 'Y' 'Y' 'N' 'Y' 'N']\n",
            " ['1961' 8 6 'Firefox' 'Google' 'Hotmail' 'N' 'Y' 'N' 'Y' 'Y']\n",
            " ['1954' 2 3 'Internet Explorer' 'Bing' 'Hotmail' 'Y' 'Y' 'N' 'Y' 'N']\n",
            " ['1982' 15 4 'Internet Explorer' 'Google' 'Yahoo' 'Y' 'N' 'Y' 'N' 'N']\n",
            " ['1981' 11 2 'Firefox' 'Google' 'Yahoo' 'Y' 'Y' 'N' 'Y' 'Y']\n",
            " ['1977' 3 3 'Internet Explorer' 'Yahoo' 'Yahoo' 'Y' 'Y' 'N' 'Y' 'N']\n",
            " ['1969' 6 2 'Firefox' 'Google' 'Gmail' 'N' 'Y' 'N' 'N' 'N']\n",
            " ['1987' 12 1 'Safari' 'Yahoo' 'Yahoo' 'Y' 'Y' 'Y' 'Y' 'N']\n",
            " ['1959' 12 5 'Chrome' 'Google' 'Gmail' 'Y' 'N' 'N' 'Y' 'N']]\n"
          ]
        }
      ]
    },
    {
      "cell_type": "code",
      "metadata": {
        "id": "-rf2WcjzgEFw"
      },
      "source": [
        "from sklearn.compose import ColumnTransformer\n",
        "ct = ColumnTransformer(transformers=[('encoder', 'passthrough', [0])], remainder='passthrough')\n",
        "x = np.array(ct.fit_transform(x))"
      ],
      "execution_count": null,
      "outputs": []
    },
    {
      "cell_type": "code",
      "metadata": {
        "colab": {
          "base_uri": "https://localhost:8080/"
        },
        "id": "tyTkniV_gKtZ",
        "outputId": "b82ff41b-06cc-4754-ec2f-eaa9c19f40db"
      },
      "source": [
        "print(x)"
      ],
      "execution_count": null,
      "outputs": [
        {
          "output_type": "stream",
          "name": "stdout",
          "text": [
            "[[1.0 0.0 0.0 0.0 0.0 1.0 0.0 0.0 0.0 0.0 8 1 'Firefox' 'Google' 'Yahoo'\n",
            "  'Y' 'N' 'N' 'Y' 'N']\n",
            " [1.0 0.0 0.0 0.0 0.0 0.0 0.0 1.0 0.0 0.0 14 2 'Chrome' 'Google'\n",
            "  'Hotmail' 'Y' 'N' 'N' 'Y' 'N']\n",
            " [1.0 0.0 0.0 0.0 0.0 0.0 1.0 0.0 0.0 0.0 6 2 'Firefox' 'Yahoo' 'Yahoo'\n",
            "  'Y' 'Y' 'N' 'Y' 'N']\n",
            " [1.0 0.0 0.0 1.0 0.0 0.0 0.0 0.0 0.0 0.0 8 6 'Firefox' 'Google'\n",
            "  'Hotmail' 'N' 'Y' 'N' 'Y' 'Y']\n",
            " [0.0 1.0 0.0 0.0 0.0 0.0 0.0 0.0 0.0 0.0 2 3 'Internet Explorer' 'Bing'\n",
            "  'Hotmail' 'Y' 'Y' 'N' 'Y' 'N']\n",
            " [1.0 0.0 0.0 0.0 0.0 0.0 0.0 0.0 1.0 0.0 15 4 'Internet Explorer'\n",
            "  'Google' 'Yahoo' 'Y' 'N' 'Y' 'N' 'N']\n",
            " [1.0 0.0 0.0 0.0 0.0 0.0 0.0 1.0 0.0 0.0 11 2 'Firefox' 'Google' 'Yahoo'\n",
            "  'Y' 'Y' 'N' 'Y' 'Y']\n",
            " [1.0 0.0 0.0 0.0 0.0 0.0 1.0 0.0 0.0 0.0 3 3 'Internet Explorer' 'Yahoo'\n",
            "  'Yahoo' 'Y' 'Y' 'N' 'Y' 'N']\n",
            " [1.0 0.0 0.0 0.0 1.0 0.0 0.0 0.0 0.0 0.0 6 2 'Firefox' 'Google' 'Gmail'\n",
            "  'N' 'Y' 'N' 'N' 'N']\n",
            " [1.0 0.0 0.0 0.0 0.0 0.0 0.0 0.0 0.0 1.0 12 1 'Safari' 'Yahoo' 'Yahoo'\n",
            "  'Y' 'Y' 'Y' 'Y' 'N']\n",
            " [1.0 0.0 1.0 0.0 0.0 0.0 0.0 0.0 0.0 0.0 12 5 'Chrome' 'Google' 'Gmail'\n",
            "  'Y' 'N' 'N' 'Y' 'N']]\n"
          ]
        }
      ]
    },
    {
      "cell_type": "code",
      "metadata": {
        "id": "g7IH_cZegPph"
      },
      "source": [
        "from sklearn.preprocessing import LabelEncoder\n",
        "le = LabelEncoder()\n",
        "y = le.fit_transform(y)"
      ],
      "execution_count": null,
      "outputs": []
    },
    {
      "cell_type": "code",
      "metadata": {
        "colab": {
          "base_uri": "https://localhost:8080/"
        },
        "id": "_8mWxqF_gSVA",
        "outputId": "3af91e94-0878-4424-cc00-1e0c1bafd474"
      },
      "source": [
        "print(y)"
      ],
      "execution_count": null,
      "outputs": [
        {
          "output_type": "stream",
          "name": "stdout",
          "text": [
            "[1 1 0 0 1 1 1 1 0 1 0]\n"
          ]
        }
      ]
    },
    {
      "cell_type": "code",
      "metadata": {
        "id": "LTbuUolRgXcp"
      },
      "source": [
        "from sklearn.model_selection import train_test_split\n",
        "x_train, x_test, y_train, y_test = train_test_split(x, y, test_size = 0.2, random_state = 1)"
      ],
      "execution_count": null,
      "outputs": []
    },
    {
      "cell_type": "code",
      "metadata": {
        "colab": {
          "base_uri": "https://localhost:8080/"
        },
        "id": "_NZss-IbgZkI",
        "outputId": "520b975a-312d-46b1-d9c2-b90a6f88df7b"
      },
      "source": [
        "print(x_train)"
      ],
      "execution_count": null,
      "outputs": [
        {
          "output_type": "stream",
          "name": "stdout",
          "text": [
            "[[1.0 0.0 0.0 0.0 0.0 0.0 0.0 0.0 0.0 1.0 12 1 'Safari' 'Yahoo' 'Yahoo'\n",
            "  'Y' 'Y' 'Y' 'Y' 'N']\n",
            " [1.0 0.0 0.0 0.0 0.0 0.0 0.0 1.0 0.0 0.0 14 2 'Chrome' 'Google'\n",
            "  'Hotmail' 'Y' 'N' 'N' 'Y' 'N']\n",
            " [1.0 0.0 0.0 0.0 0.0 0.0 0.0 1.0 0.0 0.0 11 2 'Firefox' 'Google' 'Yahoo'\n",
            "  'Y' 'Y' 'N' 'Y' 'Y']\n",
            " [1.0 0.0 0.0 0.0 0.0 1.0 0.0 0.0 0.0 0.0 8 1 'Firefox' 'Google' 'Yahoo'\n",
            "  'Y' 'N' 'N' 'Y' 'N']\n",
            " [1.0 0.0 0.0 0.0 0.0 0.0 1.0 0.0 0.0 0.0 3 3 'Internet Explorer' 'Yahoo'\n",
            "  'Yahoo' 'Y' 'Y' 'N' 'Y' 'N']\n",
            " [1.0 0.0 1.0 0.0 0.0 0.0 0.0 0.0 0.0 0.0 12 5 'Chrome' 'Google' 'Gmail'\n",
            "  'Y' 'N' 'N' 'Y' 'N']\n",
            " [1.0 0.0 0.0 0.0 1.0 0.0 0.0 0.0 0.0 0.0 6 2 'Firefox' 'Google' 'Gmail'\n",
            "  'N' 'Y' 'N' 'N' 'N']\n",
            " [1.0 0.0 0.0 0.0 0.0 0.0 0.0 0.0 1.0 0.0 15 4 'Internet Explorer'\n",
            "  'Google' 'Yahoo' 'Y' 'N' 'Y' 'N' 'N']]\n"
          ]
        }
      ]
    },
    {
      "cell_type": "code",
      "metadata": {
        "colab": {
          "base_uri": "https://localhost:8080/"
        },
        "id": "7paE1u8jgdIB",
        "outputId": "79b17af4-4a5a-4cab-8c5b-299278f358d9"
      },
      "source": [
        "print(x_test)"
      ],
      "execution_count": null,
      "outputs": [
        {
          "output_type": "stream",
          "name": "stdout",
          "text": [
            "[[1.0 0.0 0.0 0.0 0.0 0.0 1.0 0.0 0.0 0.0 6 2 'Firefox' 'Yahoo' 'Yahoo'\n",
            "  'Y' 'Y' 'N' 'Y' 'N']\n",
            " [1.0 0.0 0.0 1.0 0.0 0.0 0.0 0.0 0.0 0.0 8 6 'Firefox' 'Google'\n",
            "  'Hotmail' 'N' 'Y' 'N' 'Y' 'Y']\n",
            " [0.0 1.0 0.0 0.0 0.0 0.0 0.0 0.0 0.0 0.0 2 3 'Internet Explorer' 'Bing'\n",
            "  'Hotmail' 'Y' 'Y' 'N' 'Y' 'N']]\n"
          ]
        }
      ]
    },
    {
      "cell_type": "code",
      "metadata": {
        "colab": {
          "base_uri": "https://localhost:8080/"
        },
        "id": "_vtTFpG4gfFy",
        "outputId": "6ef94984-1983-457d-cb50-21617ce79c40"
      },
      "source": [
        "print(y_train)"
      ],
      "execution_count": null,
      "outputs": [
        {
          "output_type": "stream",
          "name": "stdout",
          "text": [
            "9       Male\n",
            "1       Male\n",
            "6       Male\n",
            "0       Male\n",
            "7       Male\n",
            "10    Female\n",
            "8     Female\n",
            "5       Male\n",
            "Name: Gender, dtype: object\n"
          ]
        }
      ]
    },
    {
      "cell_type": "code",
      "metadata": {
        "colab": {
          "base_uri": "https://localhost:8080/"
        },
        "id": "3qeYa1bVgi_b",
        "outputId": "f8ede5c1-4346-40a0-8ece-ca9a0ff8edef"
      },
      "source": [
        "print(y_test)"
      ],
      "execution_count": null,
      "outputs": [
        {
          "output_type": "stream",
          "name": "stdout",
          "text": [
            "2    Female\n",
            "3    Female\n",
            "4      Male\n",
            "Name: Gender, dtype: object\n"
          ]
        }
      ]
    },
    {
      "cell_type": "code",
      "metadata": {
        "id": "z-hvcbjHgmAZ"
      },
      "source": [
        "from sklearn.preprocessing import StandardScaler\n",
        "\n",
        "numerical_columns = [1, 2]\n",
        "\n",
        "x_train_numeric = x_train[:, numerical_columns]\n",
        "x_test_numeric = x_test[:, numerical_columns]\n",
        "\n",
        "sc = StandardScaler()\n",
        "x_train_numeric = sc.fit_transform(x_train_numeric)\n",
        "x_test_numeric = sc.transform(x_test_numeric)\n",
        "\n",
        "x_train[:, numerical_columns] = x_train_numeric\n",
        "x_test[:, numerical_columns] = x_test_numeric"
      ],
      "execution_count": null,
      "outputs": []
    },
    {
      "cell_type": "code",
      "metadata": {
        "colab": {
          "base_uri": "https://localhost:8080/"
        },
        "id": "YlhVJNJNgnIz",
        "outputId": "b6a09f64-065d-4d4c-bafa-13fa45076d92"
      },
      "source": [
        "print(x_train)"
      ],
      "execution_count": null,
      "outputs": [
        {
          "output_type": "stream",
          "name": "stdout",
          "text": [
            "[[1.0 0.0 -0.3779644730092272 0.0 0.0 0.0 0.0 0.0 0.0 1.0 12 1 'Safari'\n",
            "  'Yahoo' 'Yahoo' 'Y' 'Y' 'Y' 'Y' 'N']\n",
            " [1.0 0.0 -0.3779644730092272 0.0 0.0 0.0 0.0 1.0 0.0 0.0 14 2 'Chrome'\n",
            "  'Google' 'Hotmail' 'Y' 'N' 'N' 'Y' 'N']\n",
            " [1.0 0.0 -0.3779644730092272 0.0 0.0 0.0 0.0 1.0 0.0 0.0 11 2 'Firefox'\n",
            "  'Google' 'Yahoo' 'Y' 'Y' 'N' 'Y' 'Y']\n",
            " [1.0 0.0 -0.3779644730092272 0.0 0.0 1.0 0.0 0.0 0.0 0.0 8 1 'Firefox'\n",
            "  'Google' 'Yahoo' 'Y' 'N' 'N' 'Y' 'N']\n",
            " [1.0 0.0 -0.3779644730092272 0.0 0.0 0.0 1.0 0.0 0.0 0.0 3 3\n",
            "  'Internet Explorer' 'Yahoo' 'Yahoo' 'Y' 'Y' 'N' 'Y' 'N']\n",
            " [1.0 0.0 2.6457513110645903 0.0 0.0 0.0 0.0 0.0 0.0 0.0 12 5 'Chrome'\n",
            "  'Google' 'Gmail' 'Y' 'N' 'N' 'Y' 'N']\n",
            " [1.0 0.0 -0.3779644730092272 0.0 1.0 0.0 0.0 0.0 0.0 0.0 6 2 'Firefox'\n",
            "  'Google' 'Gmail' 'N' 'Y' 'N' 'N' 'N']\n",
            " [1.0 0.0 -0.3779644730092272 0.0 0.0 0.0 0.0 0.0 1.0 0.0 15 4\n",
            "  'Internet Explorer' 'Google' 'Yahoo' 'Y' 'N' 'Y' 'N' 'N']]\n"
          ]
        }
      ]
    },
    {
      "cell_type": "code",
      "metadata": {
        "colab": {
          "base_uri": "https://localhost:8080/"
        },
        "id": "aBr0wL5wgtP5",
        "outputId": "438f9c03-15d7-4b40-90f5-0e9d056cdf29"
      },
      "source": [
        "print(x_test)"
      ],
      "execution_count": null,
      "outputs": [
        {
          "output_type": "stream",
          "name": "stdout",
          "text": [
            "[[1.0 0.0 -0.3779644730092272 0.0 0.0 0.0 1.0 0.0 0.0 0.0 6 2 'Firefox'\n",
            "  'Yahoo' 'Yahoo' 'Y' 'Y' 'N' 'Y' 'N']\n",
            " [1.0 0.0 -0.3779644730092272 1.0 0.0 0.0 0.0 0.0 0.0 0.0 8 6 'Firefox'\n",
            "  'Google' 'Hotmail' 'N' 'Y' 'N' 'Y' 'Y']\n",
            " [0.0 1.0 -0.3779644730092272 0.0 0.0 0.0 0.0 0.0 0.0 0.0 2 3\n",
            "  'Internet Explorer' 'Bing' 'Hotmail' 'Y' 'Y' 'N' 'Y' 'N']]\n"
          ]
        }
      ]
    }
  ]
}